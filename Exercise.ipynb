{
 "cells": [
  {
   "cell_type": "code",
   "execution_count": null,
   "metadata": {},
   "outputs": [],
   "source": [
    "# Задача 1\n",
    "a = 1000\n",
    "d = 0\n",
    "for i in range(a):\n",
    "    if i % 3 == 0 or i % 5 == 0:\n",
    "        d = d + i\n",
    "print(d)"
   ]
  },
  {
   "cell_type": "code",
   "execution_count": null,
   "metadata": {},
   "outputs": [],
   "source": [
    "# Задача 2\n",
    "a = 4000000\n",
    "b = [1, 2]\n",
    "c = 2\n",
    "while b[-1] < 4000000:\n",
    "    b.append(b[-1] + b[-2])\n",
    "    if b[-1] % 2 == 0:\n",
    "        c = c + b[-1]\n",
    "print(c)"
   ]
  },
  {
   "cell_type": "code",
   "execution_count": 14,
   "metadata": {},
   "outputs": [
    {
     "name": "stdout",
     "output_type": "stream",
     "text": [
      "377\n"
     ]
    }
   ],
   "source": [
    "# Задача 3\n",
    "a = 13195\n",
    "b = [2, 3, 5, 7, 9, 11]\n",
    "c = 0\n",
    "for i in range(10000):\n",
    "    if i % 2 != 0:\n",
    "        if i % 3 != 0:\n",
    "            if i % 5 != 0:\n",
    "                if i % 7 != 0:\n",
    "                    if i % 9 != 0:\n",
    "                        if i % 11 != 0:\n",
    "                            b.append(i)\n",
    "for letter in b:\n",
    "    if a % letter == 0:\n",
    "        if c <= letter:\n",
    "            c = letter\n",
    "print(c)"
   ]
  },
  {
   "cell_type": "code",
   "execution_count": 12,
   "metadata": {},
   "outputs": [
    {
     "name": "stdout",
     "output_type": "stream",
     "text": [
      "600851475143\n"
     ]
    }
   ],
   "source": []
  },
  {
   "cell_type": "code",
   "execution_count": null,
   "metadata": {},
   "outputs": [],
   "source": []
  }
 ],
 "metadata": {
  "kernelspec": {
   "display_name": "base",
   "language": "python",
   "name": "python3"
  },
  "language_info": {
   "codemirror_mode": {
    "name": "ipython",
    "version": 3
   },
   "file_extension": ".py",
   "mimetype": "text/x-python",
   "name": "python",
   "nbconvert_exporter": "python",
   "pygments_lexer": "ipython3",
   "version": "3.11.4"
  },
  "orig_nbformat": 4
 },
 "nbformat": 4,
 "nbformat_minor": 2
}
